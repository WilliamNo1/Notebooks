{
 "cells": [
  {
   "cell_type": "markdown",
   "metadata": {},
   "source": [
    "# Effet of vapor voume fraction \n",
    "## flow regime\n",
    "At the moments of compression, if it's still in bubble flow regime, possible explosion.\n",
    "## competition between \n",
    "- high vapor volume fraction represents more bubbes as well as stronger cooling effect\n",
    "- higher $\\alpha_V$ represents bigger velocity of liquid as well as bigger fragmentation rate \n",
    "\n",
    "## leading to a pressure plate for midium vapor volum fraction.\n",
    "\n",
    "## Transition flow\n",
    "> is a \"fake\" (do not really exist physicaly) flow zone supposed to be composed by two independent (no interaction between these two regimes) regimes with specific composition. Different constutive/closure laws for these two regimes are used and then weighted by volume fraction of both regime to evaluate possible temperature, pressure and velocity filed in this flow zone.\n",
    "---"
   ]
  },
  {
   "cell_type": "markdown",
   "metadata": {},
   "source": [
    "# paper nots about [Comparative review of FCI computer models used in the OECD-SERENA program](https://publikationen.bibliothek.kit.edu/240063805)"
   ]
  },
  {
   "cell_type": "markdown",
   "metadata": {},
   "source": [
    "## abstract \n",
    "a summary of this review and presents the most important models and differences between the FCI codes. These differences concern:\n",
    "- the fuel numerical description; \n",
    "- the fuel fragmentation; \n",
    "- the flow map for multiphase, multi-component fluid systems;\n",
    "- the heat and mass transfers between fuel and coolant. "
   ]
  },
  {
   "cell_type": "markdown",
   "metadata": {},
   "source": []
  }
 ],
 "metadata": {
  "kernelspec": {
   "display_name": "Python 2",
   "language": "python",
   "name": "python2"
  },
  "language_info": {
   "codemirror_mode": {
    "name": "ipython",
    "version": 2
   },
   "file_extension": ".py",
   "mimetype": "text/x-python",
   "name": "python",
   "nbconvert_exporter": "python",
   "pygments_lexer": "ipython2",
   "version": "2.7.15+"
  }
 },
 "nbformat": 4,
 "nbformat_minor": 4
}
