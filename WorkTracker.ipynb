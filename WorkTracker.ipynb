{
 "cells": [
  {
   "cell_type": "markdown",
   "metadata": {},
   "source": [
    "# Effet of vapor voume fraction \n",
    "## flow regime\n",
    "At the moments of compression, if it's still in bubble flow regime, possible explosion.\n",
    "## competition between \n",
    "> high vapor volume fraction represents more bubbes as well as stronger cooling effect\n",
    "> higher $\\alpha_V$ represents bigger velocity of liquid as well as bigger fragmentation rate \n",
    "\n",
    "## leading to a pressure plate for midium vapor volum fraction."
   ]
  },
  {
   "cell_type": "code",
   "execution_count": null,
   "metadata": {},
   "outputs": [],
   "source": []
  }
 ],
 "metadata": {
  "kernelspec": {
   "display_name": "Python 2",
   "language": "python",
   "name": "python2"
  },
  "language_info": {
   "codemirror_mode": {
    "name": "ipython",
    "version": 2
   },
   "file_extension": ".py",
   "mimetype": "text/x-python",
   "name": "python",
   "nbconvert_exporter": "python",
   "pygments_lexer": "ipython2",
   "version": "2.7.15+"
  }
 },
 "nbformat": 4,
 "nbformat_minor": 4
}
